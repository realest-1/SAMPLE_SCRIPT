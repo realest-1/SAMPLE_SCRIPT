{
  "nbformat": 4,
  "nbformat_minor": 0,
  "metadata": {
    "colab": {
      "provenance": []
    },
    "kernelspec": {
      "name": "python3",
      "display_name": "Python 3"
    },
    "language_info": {
      "name": "python"
    }
  },
  "cells": [
    {
      "cell_type": "markdown",
      "source": [
        "# Required Packages Installation"
      ],
      "metadata": {
        "id": "EbvNwZss2f6u"
      }
    },
    {
      "cell_type": "code",
      "source": [
        "!pip install openai\n",
        "!pip install gradio"
      ],
      "metadata": {
        "id": "YrMB5KG22XqR"
      },
      "execution_count": null,
      "outputs": []
    },
    {
      "cell_type": "markdown",
      "source": [
        "# Import Required Libraries and Setup OpenAI API Key"
      ],
      "metadata": {
        "id": "wBKLEGdyBm1e"
      }
    },
    {
      "cell_type": "code",
      "execution_count": null,
      "metadata": {
        "id": "OGi10HZyAxW_"
      },
      "outputs": [],
      "source": [
        "# Import required libraries\n",
        "import os  # for handling environment variables\n",
        "import openai  # for interacting with the OpenAI API\n",
        "import gradio as gr  # for building a simple GUI in Python\n",
        "from google.colab import userdata  # Colab-specific module to manage user data\n",
        "\n",
        "# Set OpenAI API key\n",
        "# Retrieves the OPENAI_API_KEY stored in Google Colab’s userdata and sets it as an environment variable.\n",
        "# Note: This will only work in Google Colab where the userdata module is available\n",
        "os.environ['OPENAI_API_KEY'] = userdata.get('OPENAI_API_KEY')"
      ]
    },
    {
      "cell_type": "markdown",
      "source": [
        "# Helper Functions"
      ],
      "metadata": {
        "id": "DSO_v67CIDOG"
      }
    },
    {
      "cell_type": "markdown",
      "source": [
        "Get Completion from OpenAI"
      ],
      "metadata": {
        "id": "DV9H0VEpz1wt"
      }
    },
    {
      "cell_type": "code",
      "source": [
        "client = openai.OpenAI()\n",
        "\n",
        "def get_completion_from_messages(messages, model=\"gpt-3.5-turbo\", temperature=0):\n",
        "    \"\"\"\n",
        "    Calls the OpenAI API to generate a response based on provided messages.\n",
        "\n",
        "    Parameters:\n",
        "    - messages (list): A list of dictionaries containing the role ('system', 'user', 'assistant') and content of each message in the conversation.\n",
        "    - model (str): The name of the model to use. Default is \"gpt-3.5-turbo\".\n",
        "    - temperature (float): Controls the randomness of the response. Lower values make the response more focused and deterministic.\n",
        "\n",
        "    Returns:\n",
        "    - str: The assistant's response text from the OpenAI API.\n",
        "    \"\"\"\n",
        "    try:\n",
        "        response = client.chat.completions.create(\n",
        "            model=model,\n",
        "            messages=messages,\n",
        "            temperature=temperature\n",
        "        )\n",
        "        # Extract and return the assistant's message content\n",
        "        return response.choices[0].message.content\n",
        "    except openai.error.OpenAIError as e:\n",
        "        print(f\"API Error: {e}\")\n",
        "        # Return an error message if the API call fails\n",
        "        return \"Sorry, I encountered an error while processing your request.\""
      ],
      "metadata": {
        "id": "Y3YOY79sHjBx"
      },
      "execution_count": null,
      "outputs": []
    },
    {
      "cell_type": "markdown",
      "source": [
        "Function to collect user messages and display assistant responses (GUI)"
      ],
      "metadata": {
        "id": "usq38NVNz8le"
      }
    },
    {
      "cell_type": "code",
      "source": [
        "def chatbot(user_input):\n",
        "    global context  # Access global context\n",
        "    # Add user's message to context\n",
        "    context.append({'role': 'user', 'content': user_input})\n",
        "\n",
        "    # Check if user indicates end of conversation\n",
        "    if user_input.lower() in [\"end order\", \"finalize order\", \"thank you\"]:\n",
        "        # Generate and return summary\n",
        "        summary = generate_order_summary()\n",
        "        context.clear()  # Clear context for a new conversation\n",
        "        return \"Order Summary:\\n\" + summary\n",
        "\n",
        "    # Get response from OpenAI\n",
        "    response = get_completion_from_messages(context)\n",
        "    # Append assistant's response to context\n",
        "    context.append({'role': 'assistant', 'content': response})\n",
        "    return response"
      ],
      "metadata": {
        "id": "Tevdx94lz_UV"
      },
      "execution_count": null,
      "outputs": []
    },
    {
      "cell_type": "markdown",
      "source": [
        "Generate Order Summary in JSON format"
      ],
      "metadata": {
        "id": "5VPim2KR0E53"
      }
    },
    {
      "cell_type": "code",
      "source": [
        "def generate_order_summary():\n",
        "    \"\"\"\n",
        "    Summarizes the user's order in JSON format, itemizing the price for each category (burgers, sides, drinks, dessert) and providing the total price.\n",
        "\n",
        "    Returns:\n",
        "    - str: A JSON summary of the order as generated by the OpenAI API.\n",
        "    \"\"\"\n",
        "    # Copy context to avoid modifying the original conversation\n",
        "    messages = context.copy()\n",
        "    # Append a system message to instruct the assistant to create a JSON order summary\n",
        "    messages.append(\n",
        "        {'role': 'system', 'content': 'Create a JSON summary of the previous food order. \\\n",
        "         Itemize the price for each item with the following fields: \\\n",
        "         1) burgers, 2) sides, 3) drinks, 4) dessert, 5) total price.'}\n",
        "    )\n",
        "    # Call OpenAI API to get the summary and return it\n",
        "    return get_completion_from_messages(messages)"
      ],
      "metadata": {
        "id": "ypbKQ2Ku0EQT"
      },
      "execution_count": null,
      "outputs": []
    },
    {
      "cell_type": "markdown",
      "source": [
        "# Panel GUI Initialization"
      ],
      "metadata": {
        "id": "fa1jLLW707I3"
      }
    },
    {
      "cell_type": "code",
      "source": [
        "context = [ {'role':'system', 'content':\"\"\"\n",
        "You are OrderBot, an automated service to collect orders for a burger restaurant. \\\n",
        "You first greet the customer, then collects the order, \\\n",
        "and then asks if it's a pickup or delivery. \\\n",
        "If the customer asking for the item outside our menu, \\\n",
        "response with displaying our menu to give the customer reference. \\\n",
        "You wait to collect the entire order, then summarize it and check for a final \\\n",
        "time if the customer wants to add anything else. \\\n",
        "If it's a delivery, you ask for an address. \\\n",
        "Finally you collect the payment.\\\n",
        "You respond in a short, very conversational friendly style. \\\n",
        "The menu includes \\\n",
        "Cheeseburger $6 \\\n",
        "Double burger $8 \\\n",
        "Chicken burger $6 \\\n",
        "Fries $3 \\\n",
        "Onion rings $3 \\\n",
        "Chicken nuggets $4 \\\n",
        "Coke $1 \\\n",
        "Iced Tea $1 \\\n",
        "Milkshake $3 \\\n",
        "Ice Cream $3\n",
        "\"\"\"} ]  # Initial system message to set the context of the assistant\n",
        "\n",
        "\n",
        "# Create Gradio Interface\n",
        "with gr.Blocks() as demo:\n",
        "    gr.Markdown(\"## 🍔 OrderBot Chatbot\")\n",
        "    chat_input = gr.Textbox(placeholder=\"Enter your message here...\", label=\"User Input\")\n",
        "    chat_output = gr.Textbox(label=\"Chatbot Response\", lines=10, interactive=False)  # Larger output box\n",
        "\n",
        "    def submit(user_input):\n",
        "        bot_response = chatbot(user_input)\n",
        "        return bot_response, \"\"\n",
        "\n",
        "    # Submit button clears input after submission and updates the output\n",
        "    chat_input.submit(submit, chat_input, [chat_output, chat_input])\n",
        "\n",
        "# Launch the Gradio app\n",
        "demo.launch()"
      ],
      "metadata": {
        "id": "TAYBrcMpGOA_"
      },
      "execution_count": null,
      "outputs": []
    },
    {
      "cell_type": "markdown",
      "source": [
        "# Review"
      ],
      "metadata": {
        "id": "7M9PALf_1eqd"
      }
    },
    {
      "cell_type": "markdown",
      "source": [
        "Code Reviewed by ChatGPT: https://chatgpt.com/share/671ee927-bc0c-800b-b667-7fa8d700d1dd"
      ],
      "metadata": {
        "id": "oS_XooX6vmax"
      }
    }
  ]
}