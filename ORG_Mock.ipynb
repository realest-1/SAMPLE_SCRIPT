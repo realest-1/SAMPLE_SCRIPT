{
  "nbformat": 4,
  "nbformat_minor": 0,
  "metadata": {
    "colab": {
      "provenance": []
    },
    "kernelspec": {
      "name": "python3",
      "display_name": "Python 3"
    },
    "language_info": {
      "name": "python"
    }
  },
  "cells": [
    {
      "cell_type": "code",
      "execution_count": null,
      "metadata": {
        "colab": {
          "base_uri": "https://localhost:8080/"
        },
        "id": "jES5IH1nuTid",
        "outputId": "30bbef94-6c67-450d-c0fd-a6725c58bdfa"
      },
      "outputs": [
        {
          "output_type": "stream",
          "name": "stdout",
          "text": [
            "Drive already mounted at /content/drive; to attempt to forcibly remount, call drive.mount(\"/content/drive\", force_remount=True).\n",
            "Data successfully written to /content/drive/My Drive/extension/MST_ORG_output.xlsx\n"
          ]
        }
      ],
      "source": [
        "from google.colab import drive\n",
        "import pandas as pd\n",
        "import random\n",
        "\n",
        "# Mount Google Drive\n",
        "drive.mount('/content/drive')\n",
        "\n",
        "# Helper functions to generate data for each table\n",
        "\n",
        "def generate_it_compos(num_entries):\n",
        "    return [\n",
        "        {\"CPTYP\": f\"{i+14:06}\", \"CPTXT\": f\"Position {i+1}\", \"UTH\": f\"{random.randint(0, 1)}\", \"DETYP\": f\"{random.randint(0, 999999):06}\", \"PERSK\": f\"{random.randint(1, 99):02}\"}\n",
        "        for i in range(num_entries)\n",
        "    ]\n",
        "\n",
        "def generate_it_dept(num_entries):\n",
        "    return [\n",
        "        {\"DETYP\": f\"{random.randint(0, 999999):06}\", \"DETXT\": f\"Department {i+1}\", \"DECOMP\": random.choice([\"DJR\", \"GDN\", \"HPI\", \"XYZ\"])}\n",
        "        for i in range(num_entries)\n",
        "    ]\n",
        "\n",
        "# Function to generate fixed data for IT_SITE\n",
        "def generate_it_site():\n",
        "    return [\n",
        "        {\"SITYP\": \"000000\", \"SITXT\": \"HQ\"},\n",
        "        {\"SITYP\": \"KDS\", \"SITXT\": \"KUDUS\"},\n",
        "        {\"SITYP\": \"JKT\", \"SITXT\": \"JAKARTA\"},\n",
        "        {\"SITYP\": \"BDG\", \"SITXT\": \"BANDUNG\"},\n",
        "        {\"SITYP\": \"SMG\", \"SITXT\": \"SEMARANG\"},\n",
        "        {\"SITYP\": \"SBY\", \"SITXT\": \"SURABAYA\"},\n",
        "        {\"SITYP\": \"CRB\", \"SITXT\": \"CIREBON\"}\n",
        "    ]\n",
        "\n",
        "def generate_it_build(num_entries):\n",
        "    return [\n",
        "        {\"BUILD\": f\"A{random.randint(50, 100):07}\", \"STEXT\": f\"City {i+1}\", \"CNAME\": random.choice([\"LP\", \"DP\"]), \"STRAS\": random.choice([\"DKI/LP\", \"DKI/DP\", \"Jawa/LP\", \"Jawa/DP\"])}\n",
        "        for i in range(num_entries)\n",
        "    ]\n",
        "\n",
        "# Function to generate fixed data for IT_PAYAREA\n",
        "def generate_it_payarea():\n",
        "    return [\n",
        "        {\"ABKRS\": \"10\", \"ATEXT\": \"Test Area\"},\n",
        "        {\"ABKRS\": \"X1\", \"ATEXT\": \"E-Commerce\"},\n",
        "        {\"ABKRS\": \"X3\", \"ATEXT\": \"Angkasa\"},\n",
        "        {\"ABKRS\": \"Y1\", \"ATEXT\": \"HPI\"},\n",
        "        {\"ABKRS\": \"Y2\", \"ATEXT\": \"HTI\"},\n",
        "        {\"ABKRS\": \"Z0\", \"ATEXT\": \"HQ Jakarta\"},\n",
        "        {\"ABKRS\": \"Z1\", \"ATEXT\": \"Kudus\"},\n",
        "        {\"ABKRS\": \"Z2\", \"ATEXT\": \"Jakarta\"},\n",
        "        {\"ABKRS\": \"Z3\", \"ATEXT\": \"Bandung\"},\n",
        "        {\"ABKRS\": \"Z4\", \"ATEXT\": \"Semarang\"},\n",
        "        {\"ABKRS\": \"Z5\", \"ATEXT\": \"Surabaya\"}\n",
        "    ]\n",
        "\n",
        "def generate_it_country(num_entries):\n",
        "    return [\n",
        "        {\"LAND1\": random.choice([\"AD\", \"US\", \"GB\", \"CN\"]), \"LANDX\": f\"Country X{i+1}\", \"LANDX50\": f\"Country Full Name {i+1}\"}\n",
        "        for i in range(num_entries)\n",
        "    ]\n",
        "\n",
        "# Function to generate fixed data for IT_POSUTH\n",
        "def generate_it_posuth():\n",
        "    return [\n",
        "        {\"SUBTY\": \"0001\", \"SUTXT\": \"Bulanan Non Driver\"},\n",
        "        {\"SUBTY\": \"0002\", \"SUTXT\": \"Driver\"},\n",
        "        {\"SUBTY\": \"0003\", \"SUTXT\": \"Helper\"}\n",
        "    ]\n",
        "\n",
        "# Function to generate fixed data for IT_GROUP\n",
        "def generate_it_group():\n",
        "    return [\n",
        "        {\"PERSG\": \"A\", \"PTEXT\": \"Kontrak;\"},\n",
        "        {\"PERSG\": \"B\", \"PTEXT\": \"Kontrak (E-commerce)\"},\n",
        "        {\"PERSG\": \"C\", \"PTEXT\": \"Tetap (E-commerce)\"},\n",
        "        {\"PERSG\": \"K\", \"PTEXT\": \"Kontrak\"},\n",
        "        {\"PERSG\": \"L\", \"PTEXT\": \"Kontrak\"},\n",
        "        {\"PERSG\": \"P\", \"PTEXT\": \"Perpanjangan\"},\n",
        "        {\"PERSG\": \"T\", \"PTEXT\": \"Tetap\"},\n",
        "        {\"PERSG\": \"U\", \"PTEXT\": \"Tetap\"}\n",
        "    ]\n",
        "\n",
        "# Define the function to generate IT_SUBGROUP based on your criteria\n",
        "def generate_it_subgroup(groups):\n",
        "    subgroup_data = []\n",
        "    for group in groups:\n",
        "        persg = group[\"PERSG\"]\n",
        "        for i in range(1, 8):  # Iterate from 1 to 7\n",
        "            subgroup_data.append({\n",
        "                \"PERSG\": persg,\n",
        "                \"PERSK\": f\"{persg}{i}\",  # Concatenation of PERSG with iteration number\n",
        "                \"PTEXT\": f\"Level {i}\",   # Level followed by iteration number\n",
        "                \"PLEVEL\": str(i)         # Iteration number as string\n",
        "            })\n",
        "    return subgroup_data\n",
        "\n",
        "def generate_it_region(num_entries):\n",
        "    return [\n",
        "        {\"LAND1\": random.choice([\"AR\", \"BR\", \"DE\", \"IN\"]), \"BLAND\": f\"{random.randint(0, 99):02}\", \"BEZEI\": f\"Description {i+1}\"}\n",
        "        for i in range(num_entries)\n",
        "    ]\n",
        "\n",
        "# Generate the IT_GROUP data\n",
        "groups = generate_it_group()\n",
        "\n",
        "# Generate the IT_SUBGROUP data using the IT_GROUP\n",
        "subgroup_data = generate_it_subgroup(groups)\n",
        "\n",
        "# Generate the sample data with different sizes for each table\n",
        "data = {\n",
        "    \"IT_COMPOS\": generate_it_compos(40),\n",
        "    \"IT_DEPT\": generate_it_dept(20),\n",
        "    \"IT_SITE\": generate_it_site(),\n",
        "    \"IT_BUILD\": generate_it_build(15),\n",
        "    \"IT_POSUTH\": generate_it_posuth(),\n",
        "    \"IT_PAYAREA\": generate_it_payarea(),\n",
        "    \"IT_COUNTRY\": generate_it_country(70),\n",
        "    \"IT_GROUP\": groups,\n",
        "    \"IT_SUBGROUP\": subgroup_data,\n",
        "    \"IT_REGION\": generate_it_region(37)\n",
        "}\n",
        "\n",
        "# Define the path to save the Excel file in Google Drive\n",
        "output_file_path = '/content/drive/My Drive/extension/MST_ORG_output.xlsx'\n",
        "\n",
        "# Create a Pandas Excel writer using XlsxWriter as the engine.\n",
        "with pd.ExcelWriter(output_file_path, engine='xlsxwriter') as writer:\n",
        "    # Iterate over the tables\n",
        "    for table_name, rows in data.items():\n",
        "        # Create a DataFrame for each sub-table\n",
        "        df = pd.DataFrame(rows)\n",
        "        # Write the DataFrame to an Excel sheet with the table name\n",
        "        df.to_excel(writer, sheet_name=table_name, index=False)\n",
        "\n",
        "print(f\"Data successfully written to {output_file_path}\")"
      ]
    },
    {
      "cell_type": "code",
      "source": [
        "!pip install xlsxwriter"
      ],
      "metadata": {
        "colab": {
          "base_uri": "https://localhost:8080/"
        },
        "id": "SfwY0SJsv-yU",
        "outputId": "205599bb-b538-4507-d7e5-d5ba05d26dd4"
      },
      "execution_count": null,
      "outputs": [
        {
          "output_type": "stream",
          "name": "stdout",
          "text": [
            "Collecting xlsxwriter\n",
            "  Downloading XlsxWriter-3.2.3-py3-none-any.whl.metadata (2.7 kB)\n",
            "Downloading XlsxWriter-3.2.3-py3-none-any.whl (169 kB)\n",
            "\u001b[?25l   \u001b[90m━━━━━━━━━━━━━━━━━━━━━━━━━━━━━━━━━━━━━━━━\u001b[0m \u001b[32m0.0/169.4 kB\u001b[0m \u001b[31m?\u001b[0m eta \u001b[36m-:--:--\u001b[0m\r\u001b[2K   \u001b[91m━━━━━━━━━━━━━━━━━━━━━━━━━━━━━━━━━━━━━━\u001b[0m\u001b[91m╸\u001b[0m\u001b[90m━\u001b[0m \u001b[32m163.8/169.4 kB\u001b[0m \u001b[31m5.2 MB/s\u001b[0m eta \u001b[36m0:00:01\u001b[0m\r\u001b[2K   \u001b[90m━━━━━━━━━━━━━━━━━━━━━━━━━━━━━━━━━━━━━━━━\u001b[0m \u001b[32m169.4/169.4 kB\u001b[0m \u001b[31m4.0 MB/s\u001b[0m eta \u001b[36m0:00:00\u001b[0m\n",
            "\u001b[?25hInstalling collected packages: xlsxwriter\n",
            "Successfully installed xlsxwriter-3.2.3\n"
          ]
        }
      ]
    }
  ]
}