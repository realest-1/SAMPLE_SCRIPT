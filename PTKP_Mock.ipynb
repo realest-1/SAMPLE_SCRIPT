{
  "nbformat": 4,
  "nbformat_minor": 0,
  "metadata": {
    "colab": {
      "provenance": []
    },
    "kernelspec": {
      "name": "python3",
      "display_name": "Python 3"
    },
    "language_info": {
      "name": "python"
    }
  },
  "cells": [
    {
      "cell_type": "code",
      "execution_count": null,
      "metadata": {
        "colab": {
          "base_uri": "https://localhost:8080/"
        },
        "id": "S9eOSq-b4bVw",
        "outputId": "dca73a3c-ae33-4e51-d297-d812a8074730"
      },
      "outputs": [
        {
          "output_type": "stream",
          "name": "stdout",
          "text": [
            "Drive already mounted at /content/drive; to attempt to forcibly remount, call drive.mount(\"/content/drive\", force_remount=True).\n",
            "Requirement already satisfied: openpyxl in /usr/local/lib/python3.11/dist-packages (3.1.5)\n",
            "Requirement already satisfied: et-xmlfile in /usr/local/lib/python3.11/dist-packages (from openpyxl) (2.0.0)\n",
            "Excel file saved to /content/drive/MyDrive/extension/it_ptkp_sample_2.xlsx\n"
          ]
        }
      ],
      "source": [
        "# Step 1: Mount Google Drive\n",
        "from google.colab import drive\n",
        "drive.mount('/content/drive')\n",
        "\n",
        "# Step 2: Install required library\n",
        "!pip install openpyxl\n",
        "\n",
        "# Step 3: Import libraries\n",
        "import random\n",
        "from datetime import datetime, timedelta\n",
        "import pandas as pd\n",
        "\n",
        "# Sample value pools\n",
        "names = [\"Budi\", \"Amir\", \"Wati\", \"Sari\", \"Dewi\", \"Agus\", \"Yanti\", \"Rina\"]\n",
        "relations = [\"Anak\", \"Istri\", \"Orang Tua\"]\n",
        "jobs = [\"Pelajar\", \"IRT\", \"Wiraswasta\", \"Pegawai\", \"Mahasiswa\", \"\"]\n",
        "ptkp_statuses = [\"TK/0\", \"K/1\", \"K/2\", \"K/3\", \"K/0\", \"TK/1\"]\n",
        "\n",
        "# Helper functions\n",
        "def random_date(start_year=1990, end_year=2015):\n",
        "    start = datetime(start_year, 1, 1)\n",
        "    end = datetime(end_year, 12, 31)\n",
        "    delta = end - start\n",
        "    return (start + timedelta(days=random.randint(0, delta.days))).strftime('%Y%m%d')\n",
        "\n",
        "def generate_record(index):\n",
        "    ptkp_status = random.choice(ptkp_statuses)\n",
        "    num_dependents = int(ptkp_status[-1]) if \"/\" in ptkp_status else 0\n",
        "\n",
        "    record = {\n",
        "        \"PABRJ\": str(2025),\n",
        "        \"PERNR\": str(10030000 + index).zfill(8),\n",
        "        \"BUKRS\": \"2310\",\n",
        "        \"TAXID\": ''.join([str(random.randint(0, 9)) for _ in range(16)]),\n",
        "        \"ZZNIK\": ''.join([str(random.randint(0, 9)) for _ in range(16)]),\n",
        "        \"PTKPSTATUS\": ptkp_status\n",
        "    }\n",
        "\n",
        "    for i in range(1, 5):\n",
        "        if i <= num_dependents:\n",
        "            record[f\"ZZNAME{i}\"] = random.choice(names)\n",
        "            record[f\"ZZRELAT{i}\"] = random.choice(relations)\n",
        "            record[f\"ZZBIRTHDATE{i}\"] = random_date()\n",
        "            record[f\"ZZJOB{i}\"] = random.choice(jobs)\n",
        "        else:\n",
        "            record[f\"ZZNAME{i}\"] = \"\"\n",
        "            record[f\"ZZRELAT{i}\"] = \"\"\n",
        "            record[f\"ZZBIRTHDATE{i}\"] = \"\"\n",
        "            record[f\"ZZJOB{i}\"] = \"\"\n",
        "\n",
        "    return record\n",
        "\n",
        "# Step 4: Generate data\n",
        "sample_data = [generate_record(i) for i in range(100)]\n",
        "\n",
        "# Step 5: Convert to DataFrame and save as Excel\n",
        "df = pd.DataFrame(sample_data)\n",
        "output_path = \"/content/drive/MyDrive/extension/it_ptkp_sample_2.xlsx\"\n",
        "df.to_excel(output_path, index=False)\n",
        "\n",
        "print(f\"Excel file saved to {output_path}\")\n"
      ]
    },
    {
      "cell_type": "code",
      "source": [
        "!pip install xlsxwriter"
      ],
      "metadata": {
        "colab": {
          "base_uri": "https://localhost:8080/"
        },
        "id": "lOKU96YZ4hYH",
        "outputId": "065ed6ce-4c38-4519-b85b-99a18cf54142"
      },
      "execution_count": null,
      "outputs": [
        {
          "output_type": "stream",
          "name": "stdout",
          "text": [
            "Collecting xlsxwriter\n",
            "  Downloading XlsxWriter-3.2.3-py3-none-any.whl.metadata (2.7 kB)\n",
            "Downloading XlsxWriter-3.2.3-py3-none-any.whl (169 kB)\n",
            "\u001b[?25l   \u001b[90m━━━━━━━━━━━━━━━━━━━━━━━━━━━━━━━━━━━━━━━━\u001b[0m \u001b[32m0.0/169.4 kB\u001b[0m \u001b[31m?\u001b[0m eta \u001b[36m-:--:--\u001b[0m\r\u001b[2K   \u001b[91m━━━━━━━━━━━━━━━━━━━━━━━━━━━━━━━\u001b[0m\u001b[90m╺\u001b[0m\u001b[90m━━━━━━━━\u001b[0m \u001b[32m133.1/169.4 kB\u001b[0m \u001b[31m3.7 MB/s\u001b[0m eta \u001b[36m0:00:01\u001b[0m\r\u001b[2K   \u001b[90m━━━━━━━━━━━━━━━━━━━━━━━━━━━━━━━━━━━━━━━━\u001b[0m \u001b[32m169.4/169.4 kB\u001b[0m \u001b[31m2.6 MB/s\u001b[0m eta \u001b[36m0:00:00\u001b[0m\n",
            "\u001b[?25hInstalling collected packages: xlsxwriter\n",
            "Successfully installed xlsxwriter-3.2.3\n"
          ]
        }
      ]
    }
  ]
}