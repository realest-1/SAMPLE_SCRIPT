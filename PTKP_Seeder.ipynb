{
  "nbformat": 4,
  "nbformat_minor": 0,
  "metadata": {
    "colab": {
      "provenance": []
    },
    "kernelspec": {
      "name": "python3",
      "display_name": "Python 3"
    },
    "language_info": {
      "name": "python"
    }
  },
  "cells": [
    {
      "cell_type": "code",
      "execution_count": null,
      "metadata": {
        "id": "n8EYVHCTt2X3"
      },
      "outputs": [],
      "source": [
        "!pip install --quiet gspread pandas gspread-dataframe"
      ]
    },
    {
      "cell_type": "code",
      "source": [
        "import gspread\n",
        "from google.colab import auth\n",
        "import gspread\n",
        "from google.auth import default\n",
        "\n",
        "auth.authenticate_user()\n",
        "creds, _ = default()\n",
        "gc = gspread.authorize(creds)\n",
        "\n",
        "import pandas as pd\n",
        "import json\n",
        "import uuid\n",
        "from gspread_dataframe import get_as_dataframe\n",
        "import math"
      ],
      "metadata": {
        "id": "Hp9y9SKLt5Sc"
      },
      "execution_count": null,
      "outputs": []
    },
    {
      "cell_type": "code",
      "source": [
        "SHEET_ID = '12uwdUtOfw8zQ0rid6SoXjYE68qtMr1JQC96YjepZCd4'   # Your Google Sheet ID string\n",
        "SHEET_NAME = 'IT_PTKP'                  # Change if your tab is named differently\n",
        "\n",
        "sheet = gc.open_by_key(SHEET_ID)\n",
        "worksheet = sheet.worksheet(SHEET_NAME)"
      ],
      "metadata": {
        "id": "6USOrdptt61D"
      },
      "execution_count": null,
      "outputs": []
    },
    {
      "cell_type": "code",
      "source": [
        "df = get_as_dataframe(worksheet, evaluate_formulas=True, dtype=str)\n",
        "df = df.loc[df.notnull().any(axis=1)]  # Remove empty rows\n",
        "\n",
        "def val(cell):\n",
        "    return None if pd.isna(cell) or cell == '' else cell\n",
        "\n",
        "api_requests = []\n",
        "\n",
        "for _, row in df.iterrows():\n",
        "    req = {\n",
        "        \"id\": str(uuid.uuid4()),\n",
        "        \"payrollYear\": val(row.get('PABRJ')),\n",
        "        \"employeeIdentificationNumber\": val(row.get('PERNR')),\n",
        "        \"companyCode\": val(row.get('BUKRS')),\n",
        "        \"npwpNumber\": val(row.get('TAXID')),\n",
        "        \"nikForNpwp\": val(row.get('ZZNIK')),\n",
        "        \"ptkpStatus\": val(row.get('PTKPSTATUS')),\n",
        "        \"taxDependentName1\": val(row.get('ZZNAME1')),\n",
        "        \"taxDependentPtkpRelationType1\": val(row.get('ZZRELAT1')),\n",
        "        \"taxDependentDateOfBirth1\": val(row.get('ZZBIRTHDATE1')),\n",
        "        \"taxDependentJob1\": val(row.get('ZZJOB1')),\n",
        "        \"taxDependentName2\": val(row.get('ZZNAME2')),\n",
        "        \"taxDependentPtkpRelationType2\": val(row.get('ZZRELAT2')),\n",
        "        \"taxDependentDateOfBirth2\": val(row.get('ZZBIRTHDATE2')),\n",
        "        \"taxDependentJob2\": val(row.get('ZZJOB2')),\n",
        "        \"taxDependentName3\": val(row.get('ZZNAME3')),\n",
        "        \"taxDependentPtkpRelationType3\": val(row.get('ZZRELAT3')),\n",
        "        \"taxDependentDateOfBirth3\": val(row.get('ZZBIRTHDATE3')),\n",
        "        \"taxDependentJob3\": val(row.get('ZZJOB3')),\n",
        "        \"taxDependentName4\": val(row.get('ZZNAME4')),\n",
        "        \"taxDependentPtkpRelationType4\": val(row.get('ZZRELAT4')),\n",
        "        \"taxDependentDateOfBirth4\": val(row.get('ZZBIRTHDATE4')),\n",
        "        \"taxDependentJob4\": val(row.get('ZZJOB4')),\n",
        "    }\n",
        "    api_requests.append(req)\n",
        "\n",
        "chunk_size = 100\n",
        "total = len(api_requests)\n",
        "num_chunks = math.ceil(total / chunk_size)\n",
        "\n",
        "for i in range(num_chunks):\n",
        "    chunk = api_requests[i*chunk_size:(i+1)*chunk_size]\n",
        "    filename = f'/content/api_requests_{i+1:03d}.json'\n",
        "    with open(filename, 'w') as f:\n",
        "        json.dump(chunk, f, indent=4)\n",
        "    # Optionally, automatically offer download for each chunk:\n",
        "    from google.colab import files\n",
        "    files.download(filename)"
      ],
      "metadata": {
        "colab": {
          "base_uri": "https://localhost:8080/",
          "height": 17
        },
        "id": "10PiLvSLt90m",
        "outputId": "ceb1f002-e258-418d-e555-5819b425fb8e"
      },
      "execution_count": null,
      "outputs": [
        {
          "output_type": "display_data",
          "data": {
            "text/plain": [
              "<IPython.core.display.Javascript object>"
            ],
            "application/javascript": [
              "\n",
              "    async function download(id, filename, size) {\n",
              "      if (!google.colab.kernel.accessAllowed) {\n",
              "        return;\n",
              "      }\n",
              "      const div = document.createElement('div');\n",
              "      const label = document.createElement('label');\n",
              "      label.textContent = `Downloading \"${filename}\": `;\n",
              "      div.appendChild(label);\n",
              "      const progress = document.createElement('progress');\n",
              "      progress.max = size;\n",
              "      div.appendChild(progress);\n",
              "      document.body.appendChild(div);\n",
              "\n",
              "      const buffers = [];\n",
              "      let downloaded = 0;\n",
              "\n",
              "      const channel = await google.colab.kernel.comms.open(id);\n",
              "      // Send a message to notify the kernel that we're ready.\n",
              "      channel.send({})\n",
              "\n",
              "      for await (const message of channel.messages) {\n",
              "        // Send a message to notify the kernel that we're ready.\n",
              "        channel.send({})\n",
              "        if (message.buffers) {\n",
              "          for (const buffer of message.buffers) {\n",
              "            buffers.push(buffer);\n",
              "            downloaded += buffer.byteLength;\n",
              "            progress.value = downloaded;\n",
              "          }\n",
              "        }\n",
              "      }\n",
              "      const blob = new Blob(buffers, {type: 'application/binary'});\n",
              "      const a = document.createElement('a');\n",
              "      a.href = window.URL.createObjectURL(blob);\n",
              "      a.download = filename;\n",
              "      div.appendChild(a);\n",
              "      a.click();\n",
              "      div.remove();\n",
              "    }\n",
              "  "
            ]
          },
          "metadata": {}
        },
        {
          "output_type": "display_data",
          "data": {
            "text/plain": [
              "<IPython.core.display.Javascript object>"
            ],
            "application/javascript": [
              "download(\"download_e1ffbc86-1cf4-45b4-9276-71a66455dbfe\", \"api_requests_001.json\", 94444)"
            ]
          },
          "metadata": {}
        },
        {
          "output_type": "display_data",
          "data": {
            "text/plain": [
              "<IPython.core.display.Javascript object>"
            ],
            "application/javascript": [
              "\n",
              "    async function download(id, filename, size) {\n",
              "      if (!google.colab.kernel.accessAllowed) {\n",
              "        return;\n",
              "      }\n",
              "      const div = document.createElement('div');\n",
              "      const label = document.createElement('label');\n",
              "      label.textContent = `Downloading \"${filename}\": `;\n",
              "      div.appendChild(label);\n",
              "      const progress = document.createElement('progress');\n",
              "      progress.max = size;\n",
              "      div.appendChild(progress);\n",
              "      document.body.appendChild(div);\n",
              "\n",
              "      const buffers = [];\n",
              "      let downloaded = 0;\n",
              "\n",
              "      const channel = await google.colab.kernel.comms.open(id);\n",
              "      // Send a message to notify the kernel that we're ready.\n",
              "      channel.send({})\n",
              "\n",
              "      for await (const message of channel.messages) {\n",
              "        // Send a message to notify the kernel that we're ready.\n",
              "        channel.send({})\n",
              "        if (message.buffers) {\n",
              "          for (const buffer of message.buffers) {\n",
              "            buffers.push(buffer);\n",
              "            downloaded += buffer.byteLength;\n",
              "            progress.value = downloaded;\n",
              "          }\n",
              "        }\n",
              "      }\n",
              "      const blob = new Blob(buffers, {type: 'application/binary'});\n",
              "      const a = document.createElement('a');\n",
              "      a.href = window.URL.createObjectURL(blob);\n",
              "      a.download = filename;\n",
              "      div.appendChild(a);\n",
              "      a.click();\n",
              "      div.remove();\n",
              "    }\n",
              "  "
            ]
          },
          "metadata": {}
        },
        {
          "output_type": "display_data",
          "data": {
            "text/plain": [
              "<IPython.core.display.Javascript object>"
            ],
            "application/javascript": [
              "download(\"download_556f28ff-bd24-409a-98e1-7451e5f575ef\", \"api_requests_002.json\", 94664)"
            ]
          },
          "metadata": {}
        },
        {
          "output_type": "display_data",
          "data": {
            "text/plain": [
              "<IPython.core.display.Javascript object>"
            ],
            "application/javascript": [
              "\n",
              "    async function download(id, filename, size) {\n",
              "      if (!google.colab.kernel.accessAllowed) {\n",
              "        return;\n",
              "      }\n",
              "      const div = document.createElement('div');\n",
              "      const label = document.createElement('label');\n",
              "      label.textContent = `Downloading \"${filename}\": `;\n",
              "      div.appendChild(label);\n",
              "      const progress = document.createElement('progress');\n",
              "      progress.max = size;\n",
              "      div.appendChild(progress);\n",
              "      document.body.appendChild(div);\n",
              "\n",
              "      const buffers = [];\n",
              "      let downloaded = 0;\n",
              "\n",
              "      const channel = await google.colab.kernel.comms.open(id);\n",
              "      // Send a message to notify the kernel that we're ready.\n",
              "      channel.send({})\n",
              "\n",
              "      for await (const message of channel.messages) {\n",
              "        // Send a message to notify the kernel that we're ready.\n",
              "        channel.send({})\n",
              "        if (message.buffers) {\n",
              "          for (const buffer of message.buffers) {\n",
              "            buffers.push(buffer);\n",
              "            downloaded += buffer.byteLength;\n",
              "            progress.value = downloaded;\n",
              "          }\n",
              "        }\n",
              "      }\n",
              "      const blob = new Blob(buffers, {type: 'application/binary'});\n",
              "      const a = document.createElement('a');\n",
              "      a.href = window.URL.createObjectURL(blob);\n",
              "      a.download = filename;\n",
              "      div.appendChild(a);\n",
              "      a.click();\n",
              "      div.remove();\n",
              "    }\n",
              "  "
            ]
          },
          "metadata": {}
        },
        {
          "output_type": "display_data",
          "data": {
            "text/plain": [
              "<IPython.core.display.Javascript object>"
            ],
            "application/javascript": [
              "download(\"download_564fa29e-5338-4d81-b080-89967ca79a96\", \"api_requests_003.json\", 94600)"
            ]
          },
          "metadata": {}
        }
      ]
    }
  ]
}