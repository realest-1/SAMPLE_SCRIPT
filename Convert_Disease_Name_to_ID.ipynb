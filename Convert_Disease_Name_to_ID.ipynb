{
  "nbformat": 4,
  "nbformat_minor": 0,
  "metadata": {
    "colab": {
      "provenance": []
    },
    "kernelspec": {
      "name": "python3",
      "display_name": "Python 3"
    },
    "language_info": {
      "name": "python"
    }
  },
  "cells": [
    {
      "cell_type": "code",
      "execution_count": null,
      "metadata": {
        "colab": {
          "base_uri": "https://localhost:8080/"
        },
        "id": "Wzul0aEza4rv",
        "outputId": "38ce7f93-ff8e-4795-b97b-3dcbffad2e1b"
      },
      "outputs": [
        {
          "output_type": "stream",
          "name": "stdout",
          "text": [
            "Mounted at /content/drive\n",
            "Number of rows updated: 18125\n",
            "Updated Excel B saved to: /content/drive/MyDrive/data_obat/dataset/drug/uuid_update_drug_1219.xlsx\n"
          ]
        }
      ],
      "source": [
        "import pandas as pd\n",
        "from google.colab import drive\n",
        "\n",
        "# Step 1: Mount Google Drive\n",
        "drive.mount('/content/drive')\n",
        "\n",
        "# Step 2: Load Excel A and Excel B (replace with your actual file paths)\n",
        "excel_a_path = '/content/drive/MyDrive/data_obat/dataset/disease_20241201.xlsx'\n",
        "excel_b_path = '/content/drive/MyDrive/data_obat/dataset/drug/update_drug_1219_15.xlsx'\n",
        "\n",
        "excel_a = pd.read_excel(excel_a_path)\n",
        "excel_b = pd.read_excel(excel_b_path)\n",
        "\n",
        "# Step 3: Create a dictionary mapping diseases to ids from Excel A\n",
        "disease_to_id = dict(zip(excel_a['disease_name'].str.lower(), excel_a['id']))\n",
        "\n",
        "# Step 4: Define the function to map diseases in Excel B to their corresponding ids\n",
        "def map_disease_to_id(disease_str):\n",
        "    if isinstance(disease_str, str):  # Check if the input is a string\n",
        "        diseases = [d.strip().lower() for d in disease_str.split(',')]\n",
        "        id_list = [disease_to_id.get(d, d) for d in diseases]\n",
        "        return ', '.join(id_list)\n",
        "    return disease_str  # Return the original value if it's not a string\n",
        "\n",
        "# Initialize the counter for updated rows\n",
        "updated_rows_count = 0\n",
        "\n",
        "# Step 5: Apply the function to the 'disease' column of Excel B, and update the counter\n",
        "def update_and_count(row):\n",
        "    original_disease = row['disease']\n",
        "    updated_disease = map_disease_to_id(original_disease)\n",
        "    if original_disease != updated_disease:\n",
        "        global updated_rows_count\n",
        "        updated_rows_count += 1\n",
        "    return updated_disease\n",
        "\n",
        "excel_b['disease'] = excel_b.apply(update_and_count, axis=1)\n",
        "\n",
        "# Step 6: Save the updated Excel B back to Google Drive\n",
        "updated_excel_b_path = '/content/drive/MyDrive/data_obat/dataset/drug/uuid_update_drug_1219.xlsx'\n",
        "excel_b.to_excel(updated_excel_b_path, index=False)\n",
        "\n",
        "# Output the number of updated rows\n",
        "print(f\"Number of rows updated: {updated_rows_count}\")\n",
        "print(f\"Updated Excel B saved to: {updated_excel_b_path}\")\n"
      ]
    },
    {
      "cell_type": "code",
      "source": [
        "import pandas as pd\n",
        "from google.colab import drive\n",
        "\n",
        "# Step 1: Mount Google Drive\n",
        "drive.mount('/content/drive')\n",
        "\n",
        "# Step 2: Load Excel A and Excel B (replace with your actual file paths)\n",
        "excel_a_path = '/content/drive/MyDrive/data_obat/dataset/disease_20241201.xlsx'\n",
        "excel_b_path = '/content/drive/MyDrive/data_obat/dataset/drug/update_drug_1215_2.xlsx'\n",
        "\n",
        "excel_a = pd.read_excel(excel_a_path)\n",
        "excel_b = pd.read_excel(excel_b_path)\n",
        "\n",
        "# Step 3: Create a set of valid UUIDs from Excel A for validation\n",
        "valid_uuids = set(excel_a['id'])\n",
        "\n",
        "# Initialize the counter for failed rows\n",
        "failed_rows_count = 0\n",
        "\n",
        "# Step 4: Function to check if conversion failed or if the cell is empty\n",
        "def is_conversion_failed(disease_str):\n",
        "    global failed_rows_count\n",
        "    if pd.isna(disease_str) or not disease_str.strip():\n",
        "        # Increment the counter if the disease string is NaN or empty\n",
        "        failed_rows_count += 1\n",
        "        return True\n",
        "    if isinstance(disease_str, str):\n",
        "        uuid_list = [uuid.strip() for uuid in disease_str.split(',')]\n",
        "        # Check if any UUID in the list is not in the valid set\n",
        "        if any(uuid not in valid_uuids for uuid in uuid_list):\n",
        "            failed_rows_count += 1\n",
        "            return True\n",
        "    return False\n",
        "\n",
        "# Step 5: Filter rows where conversion failed\n",
        "failed_conversions = excel_b[excel_b['disease'].apply(is_conversion_failed)]\n",
        "\n",
        "# Step 6: Save the failed conversions to a new Excel file\n",
        "failed_conversions_path = '/content/drive/MyDrive/data_obat/dataset/drug/failed_conversions.xlsx'\n",
        "failed_conversions.to_excel(failed_conversions_path, index=False)\n",
        "\n",
        "print(f\"Failed conversions saved to: {failed_conversions_path}\")\n"
      ],
      "metadata": {
        "colab": {
          "base_uri": "https://localhost:8080/"
        },
        "id": "i3IcDpsxdNt3",
        "outputId": "337433c3-7173-42ed-d047-915ed4b9bf32"
      },
      "execution_count": null,
      "outputs": [
        {
          "output_type": "stream",
          "name": "stdout",
          "text": [
            "Drive already mounted at /content/drive; to attempt to forcibly remount, call drive.mount(\"/content/drive\", force_remount=True).\n",
            "Failed conversions saved to: /content/drive/MyDrive/data_obat/dataset/drug/failed_conversions.xlsx\n"
          ]
        }
      ]
    }
  ]
}