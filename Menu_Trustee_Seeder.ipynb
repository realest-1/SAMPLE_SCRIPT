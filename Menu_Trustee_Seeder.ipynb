{
  "nbformat": 4,
  "nbformat_minor": 0,
  "metadata": {
    "colab": {
      "provenance": []
    },
    "kernelspec": {
      "name": "python3",
      "display_name": "Python 3"
    },
    "language_info": {
      "name": "python"
    }
  },
  "cells": [
    {
      "cell_type": "code",
      "execution_count": null,
      "metadata": {
        "colab": {
          "base_uri": "https://localhost:8080/"
        },
        "id": "D8Odike2wFbA",
        "outputId": "5783773e-6c67-440b-8e51-013b2bc19f8b"
      },
      "outputs": [
        {
          "output_type": "stream",
          "name": "stdout",
          "text": [
            "Requirement already satisfied: openpyxl in /usr/local/lib/python3.11/dist-packages (3.1.5)\n",
            "Requirement already satisfied: et-xmlfile in /usr/local/lib/python3.11/dist-packages (from openpyxl) (2.0.0)\n"
          ]
        }
      ],
      "source": [
        "!pip install openpyxl"
      ]
    },
    {
      "cell_type": "code",
      "source": [
        "import pandas as pd\n",
        "from google.colab import drive, files\n",
        "\n",
        "# Mount Google Drive\n",
        "drive.mount('/content/drive')\n",
        "\n",
        "# Path to your file\n",
        "path = '/content/drive/MyDrive/menu_trustee/Menu_Trustee_Matrix.xlsx'  # EDIT IF NEEDED\n",
        "\n",
        "# Read the file\n",
        "df = pd.read_excel(path, header=None)\n",
        "\n",
        "# You can check the first few rows to confirm correct reading:\n",
        "print(\"First 5 rows of the file for inspection:\")\n",
        "print(df.head())\n",
        "\n",
        "# Build menu-authority mapping (columns)\n",
        "col_map = {}\n",
        "for col in range(1, df.shape[1], 2):\n",
        "    menu = str(df.iloc[0, col]).strip()\n",
        "    read_auth = str(df.iloc[1, col]).strip().upper()\n",
        "    write_auth = str(df.iloc[1, col+1]).strip().upper()\n",
        "    col_map[col] = f\"{read_auth}_{menu}\"\n",
        "    col_map[col+1] = f\"{write_auth}_{menu}\"\n",
        "\n",
        "# Build output rows\n",
        "output_rows = []\n",
        "for row in range(2, df.shape[0]):\n",
        "    role = str(df.iloc[row, 0]).strip()\n",
        "    authorities = []\n",
        "    for col in col_map:\n",
        "        val = df.iloc[row, col]\n",
        "        if isinstance(val, bool) and val:\n",
        "            authorities.append(col_map[col])\n",
        "        elif isinstance(val, str) and val.strip().upper() == 'TRUE':\n",
        "            authorities.append(col_map[col])\n",
        "    if authorities:\n",
        "        output_rows.append({'Role': role, 'Authorities': ';'.join(authorities)})\n",
        "\n",
        "# DEBUG: Show what's being generated\n",
        "print(\"First parsed output (up to 3 rows):\")\n",
        "for item in output_rows[:3]:\n",
        "    print(item)\n",
        "\n",
        "# Save to CSV in both Colab and Drive\n",
        "out_df = pd.DataFrame(output_rows)\n",
        "out_df.to_csv('/content/output.csv', index=False)\n",
        "out_df.to_csv('/content/drive/MyDrive/menu_trustee/output.csv', index=False)\n",
        "\n",
        "print('Output saved to /content/output.csv and Google Drive as output.csv')\n",
        "files.download('/content/output.csv')"
      ],
      "metadata": {
        "colab": {
          "base_uri": "https://localhost:8080/",
          "height": 191
        },
        "id": "zYMzXEeVwfo_",
        "outputId": "aecf749f-0af6-4ee4-d84d-8c640272199b"
      },
      "execution_count": null,
      "outputs": [
        {
          "output_type": "stream",
          "name": "stdout",
          "text": [
            "Drive already mounted at /content/drive; to attempt to forcibly remount, call drive.mount(\"/content/drive\", force_remount=True).\n",
            "First 5 rows of the file for inspection:\n",
            "    0                                                  1    2\n",
            "0  No                                                NaN  NaN\n",
            "1   1  Use this template both for your app's master t...  NaN\n",
            "2   2  Master test case scenario must include all fun...  NaN\n",
            "3   3  Enhancement test case scenario may only contai...  NaN\n",
            "4   4  After enhancement is deployed, all test case i...  NaN\n",
            "First parsed output (up to 3 rows):\n",
            "Output saved to /content/output.csv and Google Drive as output.csv\n"
          ]
        },
        {
          "output_type": "display_data",
          "data": {
            "text/plain": [
              "<IPython.core.display.Javascript object>"
            ],
            "application/javascript": [
              "\n",
              "    async function download(id, filename, size) {\n",
              "      if (!google.colab.kernel.accessAllowed) {\n",
              "        return;\n",
              "      }\n",
              "      const div = document.createElement('div');\n",
              "      const label = document.createElement('label');\n",
              "      label.textContent = `Downloading \"${filename}\": `;\n",
              "      div.appendChild(label);\n",
              "      const progress = document.createElement('progress');\n",
              "      progress.max = size;\n",
              "      div.appendChild(progress);\n",
              "      document.body.appendChild(div);\n",
              "\n",
              "      const buffers = [];\n",
              "      let downloaded = 0;\n",
              "\n",
              "      const channel = await google.colab.kernel.comms.open(id);\n",
              "      // Send a message to notify the kernel that we're ready.\n",
              "      channel.send({})\n",
              "\n",
              "      for await (const message of channel.messages) {\n",
              "        // Send a message to notify the kernel that we're ready.\n",
              "        channel.send({})\n",
              "        if (message.buffers) {\n",
              "          for (const buffer of message.buffers) {\n",
              "            buffers.push(buffer);\n",
              "            downloaded += buffer.byteLength;\n",
              "            progress.value = downloaded;\n",
              "          }\n",
              "        }\n",
              "      }\n",
              "      const blob = new Blob(buffers, {type: 'application/binary'});\n",
              "      const a = document.createElement('a');\n",
              "      a.href = window.URL.createObjectURL(blob);\n",
              "      a.download = filename;\n",
              "      div.appendChild(a);\n",
              "      a.click();\n",
              "      div.remove();\n",
              "    }\n",
              "  "
            ]
          },
          "metadata": {}
        },
        {
          "output_type": "display_data",
          "data": {
            "text/plain": [
              "<IPython.core.display.Javascript object>"
            ],
            "application/javascript": [
              "download(\"download_4b2b4dd9-593e-4f43-ba62-fe44f1fbd83a\", \"output.csv\", 1)"
            ]
          },
          "metadata": {}
        }
      ]
    }
  ]
}